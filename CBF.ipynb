{
 "cells": [
  {
   "cell_type": "code",
   "execution_count": 3,
   "metadata": {},
   "outputs": [
    {
     "name": "stdout",
     "output_type": "stream",
     "text": [
      "Requirement already satisfied: kagglehub in c:\\users\\luxma\\appdata\\local\\packages\\pythonsoftwarefoundation.python.3.11_qbz5n2kfra8p0\\localcache\\local-packages\\python311\\site-packages (0.3.9)\n",
      "Requirement already satisfied: packaging in c:\\users\\luxma\\appdata\\local\\packages\\pythonsoftwarefoundation.python.3.11_qbz5n2kfra8p0\\localcache\\local-packages\\python311\\site-packages (from kagglehub) (24.1)\n",
      "Requirement already satisfied: pyyaml in c:\\users\\luxma\\appdata\\local\\packages\\pythonsoftwarefoundation.python.3.11_qbz5n2kfra8p0\\localcache\\local-packages\\python311\\site-packages (from kagglehub) (6.0.2)\n",
      "Requirement already satisfied: requests in c:\\users\\luxma\\appdata\\local\\packages\\pythonsoftwarefoundation.python.3.11_qbz5n2kfra8p0\\localcache\\local-packages\\python311\\site-packages (from kagglehub) (2.32.3)\n",
      "Requirement already satisfied: tqdm in c:\\users\\luxma\\appdata\\local\\packages\\pythonsoftwarefoundation.python.3.11_qbz5n2kfra8p0\\localcache\\local-packages\\python311\\site-packages (from kagglehub) (4.67.1)\n",
      "Requirement already satisfied: charset-normalizer<4,>=2 in c:\\users\\luxma\\appdata\\local\\packages\\pythonsoftwarefoundation.python.3.11_qbz5n2kfra8p0\\localcache\\local-packages\\python311\\site-packages (from requests->kagglehub) (3.4.1)\n",
      "Requirement already satisfied: idna<4,>=2.5 in c:\\users\\luxma\\appdata\\local\\packages\\pythonsoftwarefoundation.python.3.11_qbz5n2kfra8p0\\localcache\\local-packages\\python311\\site-packages (from requests->kagglehub) (3.10)\n",
      "Requirement already satisfied: urllib3<3,>=1.21.1 in c:\\users\\luxma\\appdata\\local\\packages\\pythonsoftwarefoundation.python.3.11_qbz5n2kfra8p0\\localcache\\local-packages\\python311\\site-packages (from requests->kagglehub) (2.3.0)\n",
      "Requirement already satisfied: certifi>=2017.4.17 in c:\\users\\luxma\\appdata\\local\\packages\\pythonsoftwarefoundation.python.3.11_qbz5n2kfra8p0\\localcache\\local-packages\\python311\\site-packages (from requests->kagglehub) (2025.1.31)\n",
      "Requirement already satisfied: colorama in c:\\users\\luxma\\appdata\\local\\packages\\pythonsoftwarefoundation.python.3.11_qbz5n2kfra8p0\\localcache\\local-packages\\python311\\site-packages (from tqdm->kagglehub) (0.4.6)\n",
      "Note: you may need to restart the kernel to use updated packages.\n"
     ]
    },
    {
     "name": "stderr",
     "output_type": "stream",
     "text": [
      "\n",
      "[notice] A new release of pip is available: 24.0 -> 25.0.1\n",
      "[notice] To update, run: C:\\Users\\luxma\\AppData\\Local\\Microsoft\\WindowsApps\\PythonSoftwareFoundation.Python.3.11_qbz5n2kfra8p0\\python.exe -m pip install --upgrade pip\n"
     ]
    },
    {
     "name": "stdout",
     "output_type": "stream",
     "text": [
      "Requirement already satisfied: python-dotenv in c:\\users\\luxma\\appdata\\local\\packages\\pythonsoftwarefoundation.python.3.11_qbz5n2kfra8p0\\localcache\\local-packages\\python311\\site-packages (1.0.1)\n",
      "Note: you may need to restart the kernel to use updated packages.\n"
     ]
    },
    {
     "name": "stderr",
     "output_type": "stream",
     "text": [
      "\n",
      "[notice] A new release of pip is available: 24.0 -> 25.0.1\n",
      "[notice] To update, run: C:\\Users\\luxma\\AppData\\Local\\Microsoft\\WindowsApps\\PythonSoftwareFoundation.Python.3.11_qbz5n2kfra8p0\\python.exe -m pip install --upgrade pip\n"
     ]
    },
    {
     "name": "stdout",
     "output_type": "stream",
     "text": [
      "Note: you may need to restart the kernel to use updated packages.\n"
     ]
    },
    {
     "name": "stderr",
     "output_type": "stream",
     "text": [
      "\n",
      "[notice] A new release of pip is available: 24.0 -> 25.0.1\n",
      "[notice] To update, run: C:\\Users\\luxma\\AppData\\Local\\Microsoft\\WindowsApps\\PythonSoftwareFoundation.Python.3.11_qbz5n2kfra8p0\\python.exe -m pip install --upgrade pip\n"
     ]
    }
   ],
   "source": [
    "%pip install kagglehub\n",
    "%pip install python-dotenv\n",
    "%pip install -q -U google-generativeai"
   ]
  },
  {
   "cell_type": "code",
   "execution_count": 35,
   "metadata": {},
   "outputs": [
    {
     "name": "stdout",
     "output_type": "stream",
     "text": [
      "Path to dataset files: C:\\Users\\luxma\\.cache\\kagglehub\\datasets\\jrobischon\\wikipedia-movie-plots\\versions\\1\n"
     ]
    }
   ],
   "source": [
    "import kagglehub\n",
    "import pandas as pd\n",
    "\n",
    "# Download latest version\n",
    "path = kagglehub.dataset_download(\"jrobischon/wikipedia-movie-plots\")\n",
    "\n",
    "print(\"Path to dataset files:\", path)\n",
    "\n",
    "df = pd.read_csv(path+\"\\wiki_movie_plots_deduped.csv\")\n",
    "df.to_csv('movies.csv', index=False)"
   ]
  },
  {
   "cell_type": "code",
   "execution_count": 36,
   "metadata": {},
   "outputs": [
    {
     "name": "stdout",
     "output_type": "stream",
     "text": [
      "       Release Year                 Title                  Genre  \\\n",
      "17315          2017            Flatliners  horror, sci-fi, drama   \n",
      "17346          2017                   LBJ       biography, drama   \n",
      "17361          2017  Just Getting Started         action, comedy   \n",
      "17376          2017        Phantom Thread                  drama   \n",
      "17360          2017              I, Tonya       biography, drama   \n",
      "\n",
      "                                                    Plot  \n",
      "17315  A medical student, Courtney (Ellen Page), is o...  \n",
      "17346  The story centers around the political upheava...  \n",
      "17361  Defense lawyer Duke, who once defended the hea...  \n",
      "17376  In 1954 London, renowned fashion designer Reyn...  \n",
      "17360  In 1970s Portland, Oregon, three-year-old Tony...  \n"
     ]
    }
   ],
   "source": [
    "from sklearn.feature_extraction.text import TfidfVectorizer\n",
    "from sklearn.metrics.pairwise import cosine_similarity\n",
    "import numpy as np\n",
    "\n",
    "# Load the dataset (assuming CSV format after kagglehub download)\n",
    "df = pd.read_csv(\"movies.csv\")\n",
    "\n",
    "# Check for plot column and preprocess\n",
    "df = df.drop(columns=[\"Director\",\"Cast\",\"Wiki Page\"])\n",
    "df = df[df[\"Origin/Ethnicity\"]==\"American\"]\n",
    "df = df.drop(columns=[\"Origin/Ethnicity\"])\n",
    "df = df.dropna(subset=[\"Plot\"]).reset_index(drop=True)\n",
    "df = df.sort_values(by='Release Year', ascending=False).head(500)\n",
    "\n",
    "# Preview dataset\n",
    "print(df.head())\n",
    "\n",
    "# Create TF-IDF vectorizer\n",
    "vectorizer = TfidfVectorizer(stop_words=\"english\", max_df=0.8)\n",
    "tfidf_matrix = vectorizer.fit_transform(df[\"Plot\"])\n",
    "\n",
    "# Recommender function\n",
    "def recommend_movies(input_sentence, top_n=5):\n",
    "    \"\"\"\n",
    "    Recommend top_n movies based on plot similarity to input_sentence.\n",
    "    \"\"\"\n",
    "    input_vec = vectorizer.transform([input_sentence])\n",
    "    # Use cosine similarity\n",
    "    similarity_scores = cosine_similarity(input_vec, tfidf_matrix).flatten()\n",
    "    \n",
    "    # Get indices of top_n similar plots\n",
    "    top_indices = similarity_scores.argsort()[-top_n:][::-1]\n",
    "    \n",
    "    recommendations = df.iloc[top_indices][[\"Title\", \"Release Year\", \"Plot\"]]\n",
    "    recommendations[\"Similarity Score\"] = similarity_scores[top_indices]\n",
    "    \n",
    "    return recommendations\n",
    "\n",
    "    "
   ]
  },
  {
   "cell_type": "code",
   "execution_count": 37,
   "metadata": {},
   "outputs": [
    {
     "name": "stdout",
     "output_type": "stream",
     "text": [
      "Top Movie Recommendations:\n",
      "\n",
      "                              Title  Release Year  \\\n",
      "17050                 Gods of Egypt          2016   \n",
      "17100  Independence Day: Resurgence          2016   \n",
      "17327                      Geostorm          2017   \n",
      "17113     Ice Age: Collision Course          2016   \n",
      "17251                     The Mummy          2017   \n",
      "\n",
      "                                                    Plot  Similarity Score  \n",
      "17050  In an alternate version of Egypt, the world is...          0.077022  \n",
      "17100  Twenty years after the devastating alien invas...          0.062166  \n",
      "17327  In 2019, following many catastrophic natural d...          0.054284  \n",
      "17113  Scrat, trying to bury his acorn, accidentally ...          0.053552  \n",
      "17251  In 1157 A.D., several English crusader knights...          0.048170  \n"
     ]
    }
   ],
   "source": [
    "query = \"I like action movies set in space\"\n",
    "top_recommendations = recommend_movies(query, top_n=5)\n",
    "\n",
    "print(\"Top Movie Recommendations:\\n\")\n",
    "print(top_recommendations)"
   ]
  },
  {
   "cell_type": "code",
   "execution_count": 26,
   "metadata": {},
   "outputs": [
    {
     "name": "stdout",
     "output_type": "stream",
     "text": [
      "A hardened space marshal, framed for a crime he didn't commit, escapes a maximum-security orbital prison. Hunted by relentless cyborg bounty hunters and the corrupt corporation that set him up, he must clear his name. He uncovers a conspiracy to weaponize a newly discovered alien artifact with devastating power.  Teaming up with a scrappy rogue pilot, he fights his way across the galaxy to reach the artifact first. In a final showdown, he confronts the corporation, preventing the weaponization and exposing their treachery to the universe. \n",
      "\n"
     ]
    },
    {
     "data": {
      "text/html": [
       "<div>\n",
       "<style scoped>\n",
       "    .dataframe tbody tr th:only-of-type {\n",
       "        vertical-align: middle;\n",
       "    }\n",
       "\n",
       "    .dataframe tbody tr th {\n",
       "        vertical-align: top;\n",
       "    }\n",
       "\n",
       "    .dataframe thead th {\n",
       "        text-align: right;\n",
       "    }\n",
       "</style>\n",
       "<table border=\"1\" class=\"dataframe\">\n",
       "  <thead>\n",
       "    <tr style=\"text-align: right;\">\n",
       "      <th></th>\n",
       "      <th>Title</th>\n",
       "      <th>Release Year</th>\n",
       "      <th>Plot</th>\n",
       "      <th>Similarity Score</th>\n",
       "    </tr>\n",
       "  </thead>\n",
       "  <tbody>\n",
       "    <tr>\n",
       "      <th>17364</th>\n",
       "      <td>Beyond Skyline</td>\n",
       "      <td>2017</td>\n",
       "      <td>Mark Corley, a Los Angeles police detective, h...</td>\n",
       "      <td>0.083972</td>\n",
       "    </tr>\n",
       "    <tr>\n",
       "      <th>17100</th>\n",
       "      <td>Independence Day: Resurgence</td>\n",
       "      <td>2016</td>\n",
       "      <td>Twenty years after the devastating alien invas...</td>\n",
       "      <td>0.062281</td>\n",
       "    </tr>\n",
       "    <tr>\n",
       "      <th>17241</th>\n",
       "      <td>Alien: Covenant</td>\n",
       "      <td>2017</td>\n",
       "      <td>In a prologue, business magnate Peter Weyland ...</td>\n",
       "      <td>0.038560</td>\n",
       "    </tr>\n",
       "    <tr>\n",
       "      <th>17327</th>\n",
       "      <td>Geostorm</td>\n",
       "      <td>2017</td>\n",
       "      <td>In 2019, following many catastrophic natural d...</td>\n",
       "      <td>0.032801</td>\n",
       "    </tr>\n",
       "    <tr>\n",
       "      <th>17050</th>\n",
       "      <td>Gods of Egypt</td>\n",
       "      <td>2016</td>\n",
       "      <td>In an alternate version of Egypt, the world is...</td>\n",
       "      <td>0.030075</td>\n",
       "    </tr>\n",
       "  </tbody>\n",
       "</table>\n",
       "</div>"
      ],
      "text/plain": [
       "                              Title  Release Year  \\\n",
       "17364                Beyond Skyline          2017   \n",
       "17100  Independence Day: Resurgence          2016   \n",
       "17241               Alien: Covenant          2017   \n",
       "17327                      Geostorm          2017   \n",
       "17050                 Gods of Egypt          2016   \n",
       "\n",
       "                                                    Plot  Similarity Score  \n",
       "17364  Mark Corley, a Los Angeles police detective, h...          0.083972  \n",
       "17100  Twenty years after the devastating alien invas...          0.062281  \n",
       "17241  In a prologue, business magnate Peter Weyland ...          0.038560  \n",
       "17327  In 2019, following many catastrophic natural d...          0.032801  \n",
       "17050  In an alternate version of Egypt, the world is...          0.030075  "
      ]
     },
     "execution_count": 26,
     "metadata": {},
     "output_type": "execute_result"
    }
   ],
   "source": [
    "import os\n",
    "import google.generativeai as genai\n",
    "# Used to securely store API key\n",
    "api_key = os.getenv(\"api_key\")\n",
    "genai.configure(api_key=api_key)\n",
    "model = genai.GenerativeModel('gemini-2.0-flash')\n",
    "response = model.generate_content(\"Write a 5 sentence plot summary for a movie based on this request: \"+query)\n",
    "print(response.text)\n",
    "\n",
    "recommend_movies(response.text, top_n=5)"
   ]
  }
 ],
 "metadata": {
  "kernelspec": {
   "display_name": "Python 3",
   "language": "python",
   "name": "python3"
  },
  "language_info": {
   "codemirror_mode": {
    "name": "ipython",
    "version": 3
   },
   "file_extension": ".py",
   "mimetype": "text/x-python",
   "name": "python",
   "nbconvert_exporter": "python",
   "pygments_lexer": "ipython3",
   "version": "3.11.9"
  }
 },
 "nbformat": 4,
 "nbformat_minor": 2
}
