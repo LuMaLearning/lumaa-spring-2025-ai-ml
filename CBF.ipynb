{
 "cells": [
  {
   "cell_type": "code",
   "execution_count": 3,
   "metadata": {},
   "outputs": [
    {
     "name": "stdout",
     "output_type": "stream",
     "text": [
      "Collecting kagglehub\n",
      "  Downloading kagglehub-0.3.9-py3-none-any.whl.metadata (30 kB)\n",
      "Requirement already satisfied: packaging in c:\\users\\luxma\\appdata\\local\\packages\\pythonsoftwarefoundation.python.3.11_qbz5n2kfra8p0\\localcache\\local-packages\\python311\\site-packages (from kagglehub) (24.1)\n",
      "Collecting pyyaml (from kagglehub)\n",
      "  Using cached PyYAML-6.0.2-cp311-cp311-win_amd64.whl.metadata (2.1 kB)\n",
      "Requirement already satisfied: requests in c:\\users\\luxma\\appdata\\local\\packages\\pythonsoftwarefoundation.python.3.11_qbz5n2kfra8p0\\localcache\\local-packages\\python311\\site-packages (from kagglehub) (2.32.3)\n",
      "Collecting tqdm (from kagglehub)\n",
      "  Downloading tqdm-4.67.1-py3-none-any.whl.metadata (57 kB)\n",
      "     ---------------------------------------- 0.0/57.7 kB ? eta -:--:--\n",
      "     ------- -------------------------------- 10.2/57.7 kB ? eta -:--:--\n",
      "     --------------------------------- ---- 51.2/57.7 kB 871.5 kB/s eta 0:00:01\n",
      "     -------------------------------------- 57.7/57.7 kB 765.1 kB/s eta 0:00:00\n",
      "Requirement already satisfied: charset-normalizer<4,>=2 in c:\\users\\luxma\\appdata\\local\\packages\\pythonsoftwarefoundation.python.3.11_qbz5n2kfra8p0\\localcache\\local-packages\\python311\\site-packages (from requests->kagglehub) (3.4.1)\n",
      "Requirement already satisfied: idna<4,>=2.5 in c:\\users\\luxma\\appdata\\local\\packages\\pythonsoftwarefoundation.python.3.11_qbz5n2kfra8p0\\localcache\\local-packages\\python311\\site-packages (from requests->kagglehub) (3.10)\n",
      "Requirement already satisfied: urllib3<3,>=1.21.1 in c:\\users\\luxma\\appdata\\local\\packages\\pythonsoftwarefoundation.python.3.11_qbz5n2kfra8p0\\localcache\\local-packages\\python311\\site-packages (from requests->kagglehub) (2.3.0)\n",
      "Requirement already satisfied: certifi>=2017.4.17 in c:\\users\\luxma\\appdata\\local\\packages\\pythonsoftwarefoundation.python.3.11_qbz5n2kfra8p0\\localcache\\local-packages\\python311\\site-packages (from requests->kagglehub) (2025.1.31)\n",
      "Requirement already satisfied: colorama in c:\\users\\luxma\\appdata\\local\\packages\\pythonsoftwarefoundation.python.3.11_qbz5n2kfra8p0\\localcache\\local-packages\\python311\\site-packages (from tqdm->kagglehub) (0.4.6)\n",
      "Downloading kagglehub-0.3.9-py3-none-any.whl (62 kB)\n",
      "   ---------------------------------------- 0.0/62.7 kB ? eta -:--:--\n",
      "   ---------------------------------------  61.4/62.7 kB 1.7 MB/s eta 0:00:01\n",
      "   ---------------------------------------- 62.7/62.7 kB 1.1 MB/s eta 0:00:00\n",
      "Downloading PyYAML-6.0.2-cp311-cp311-win_amd64.whl (161 kB)\n",
      "   ---------------------------------------- 0.0/162.0 kB ? eta -:--:--\n",
      "   ----------------------------------- ---- 143.4/162.0 kB 4.3 MB/s eta 0:00:01\n",
      "   ---------------------------------------- 162.0/162.0 kB 2.4 MB/s eta 0:00:00\n",
      "Downloading tqdm-4.67.1-py3-none-any.whl (78 kB)\n",
      "   ---------------------------------------- 0.0/78.5 kB ? eta -:--:--\n",
      "   ---------------------------------------- 78.5/78.5 kB 4.3 MB/s eta 0:00:00\n",
      "Installing collected packages: tqdm, pyyaml, kagglehub\n",
      "Successfully installed kagglehub-0.3.9 pyyaml-6.0.2 tqdm-4.67.1\n",
      "Note: you may need to restart the kernel to use updated packages.\n"
     ]
    },
    {
     "name": "stderr",
     "output_type": "stream",
     "text": [
      "\n",
      "[notice] A new release of pip is available: 24.0 -> 25.0.1\n",
      "[notice] To update, run: C:\\Users\\luxma\\AppData\\Local\\Microsoft\\WindowsApps\\PythonSoftwareFoundation.Python.3.11_qbz5n2kfra8p0\\python.exe -m pip install --upgrade pip\n"
     ]
    }
   ],
   "source": [
    "%pip install kagglehub"
   ]
  },
  {
   "cell_type": "code",
   "execution_count": 8,
   "metadata": {},
   "outputs": [
    {
     "name": "stdout",
     "output_type": "stream",
     "text": [
      "Path to dataset files: C:\\Users\\luxma\\.cache\\kagglehub\\datasets\\jrobischon\\wikipedia-movie-plots\\versions\\1\n"
     ]
    }
   ],
   "source": [
    "import kagglehub\n",
    "import pandas as pd\n",
    "\n",
    "# Download latest version\n",
    "path = kagglehub.dataset_download(\"jrobischon/wikipedia-movie-plots\")\n",
    "\n",
    "print(\"Path to dataset files:\", path)\n",
    "\n",
    "df = pd.read_csv(path+\"\\wiki_movie_plots_deduped.csv\")\n",
    "df.to_csv('movies.csv', index=False)"
   ]
  },
  {
   "cell_type": "code",
   "execution_count": 12,
   "metadata": {},
   "outputs": [
    {
     "name": "stdout",
     "output_type": "stream",
     "text": [
      "       Release Year                 Title                  Genre  \\\n",
      "17315          2017            Flatliners  horror, sci-fi, drama   \n",
      "17346          2017                   LBJ       biography, drama   \n",
      "17361          2017  Just Getting Started         action, comedy   \n",
      "17376          2017        Phantom Thread                  drama   \n",
      "17360          2017              I, Tonya       biography, drama   \n",
      "\n",
      "                                                    Plot  \n",
      "17315  A medical student, Courtney (Ellen Page), is o...  \n",
      "17346  The story centers around the political upheava...  \n",
      "17361  Defense lawyer Duke, who once defended the hea...  \n",
      "17376  In 1954 London, renowned fashion designer Reyn...  \n",
      "17360  In 1970s Portland, Oregon, three-year-old Tony...  \n"
     ]
    }
   ],
   "source": [
    "from sklearn.feature_extraction.text import TfidfVectorizer\n",
    "from sklearn.metrics.pairwise import cosine_similarity\n",
    "import numpy as np\n",
    "\n",
    "# Load the dataset (assuming CSV format after kagglehub download)\n",
    "df = pd.read_csv(\"movies.csv\")\n",
    "\n",
    "# Check for plot column and preprocess\n",
    "df = df.drop(columns=[\"Director\",\"Cast\",\"Wiki Page\"])\n",
    "df = df[df[\"Origin/Ethnicity\"]==\"American\"]\n",
    "df = df.drop(columns=[\"Origin/Ethnicity\"])\n",
    "df = df.dropna(subset=[\"Plot\"]).reset_index(drop=True)\n",
    "df = df.sort_values(by='Release Year', ascending=False).head(500)\n",
    "\n",
    "# Preview dataset\n",
    "print(df.head())\n",
    "\n",
    "# Create TF-IDF vectorizer\n",
    "vectorizer = TfidfVectorizer(stop_words=\"english\", max_df=0.8)\n",
    "tfidf_matrix = vectorizer.fit_transform(df[\"Plot\"])\n",
    "\n",
    "# Recommender function\n",
    "def recommend_movies(input_sentence, top_n=5):\n",
    "    \"\"\"\n",
    "    Recommend top_n movies based on plot similarity to input_sentence.\n",
    "    \"\"\"\n",
    "    input_vec = vectorizer.transform([input_sentence])\n",
    "    # Use cosine similarity\n",
    "    similarity_scores = cosine_similarity(input_vec, tfidf_matrix).flatten()\n",
    "    \n",
    "    # Get indices of top_n similar plots\n",
    "    top_indices = similarity_scores.argsort()[-top_n:][::-1]\n",
    "    \n",
    "    recommendations = df.iloc[top_indices][[\"Title\", \"Release Year\", \"Plot\"]]\n",
    "    recommendations[\"Similarity Score\"] = similarity_scores[top_indices]\n",
    "    \n",
    "    return recommendations\n",
    "\n",
    "    "
   ]
  },
  {
   "cell_type": "code",
   "execution_count": 14,
   "metadata": {},
   "outputs": [
    {
     "name": "stdout",
     "output_type": "stream",
     "text": [
      "Top Movie Recommendations:\n",
      "\n",
      "                     Title  Release Year  \\\n",
      "16924        Strange Magic          2015   \n",
      "17058    The Perfect Match          2016   \n",
      "17041        Hail, Caesar!          2016   \n",
      "17302    The Good Catholic          2017   \n",
      "17357  The Disaster Artist          2017   \n",
      "\n",
      "                                                    Plot  Similarity Score  \n",
      "16924  A realm divided between a land of fairies and ...          0.049546  \n",
      "17058  Charlie is a playboy who's convinced that rela...          0.035614  \n",
      "17041  In 1951, Eddie Mannix (Josh Brolin) is the hea...          0.026443  \n",
      "17302  Three Catholic priests live in a rectory toget...          0.023802  \n",
      "17357  San Francisco, 1998: 19-year-old Greg Sestero ...          0.020480  \n"
     ]
    }
   ],
   "source": [
    "query = \"I love thrilling action movies, with a comedic twist.\"\n",
    "top_recommendations = recommend_movies(query, top_n=5)\n",
    "\n",
    "print(\"Top Movie Recommendations:\\n\")\n",
    "print(top_recommendations)"
   ]
  },
  {
   "cell_type": "code",
   "execution_count": null,
   "metadata": {},
   "outputs": [],
   "source": []
  },
  {
   "cell_type": "code",
   "execution_count": 7,
   "metadata": {},
   "outputs": [
    {
     "name": "stdout",
     "output_type": "stream",
     "text": [
      "3.11.9 (tags/v3.11.9:de54cf5, Apr  2 2024, 10:12:12) [MSC v.1938 64 bit (AMD64)]\n"
     ]
    }
   ],
   "source": [
    "import sys\n",
    "print(sys.version)"
   ]
  }
 ],
 "metadata": {
  "kernelspec": {
   "display_name": "Python 3",
   "language": "python",
   "name": "python3"
  },
  "language_info": {
   "codemirror_mode": {
    "name": "ipython",
    "version": 3
   },
   "file_extension": ".py",
   "mimetype": "text/x-python",
   "name": "python",
   "nbconvert_exporter": "python",
   "pygments_lexer": "ipython3",
   "version": "3.11.9"
  }
 },
 "nbformat": 4,
 "nbformat_minor": 2
}
